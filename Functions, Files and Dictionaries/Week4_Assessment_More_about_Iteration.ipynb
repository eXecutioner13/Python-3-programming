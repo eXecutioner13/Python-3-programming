{
 "cells": [
  {
   "cell_type": "markdown",
   "metadata": {},
   "source": [
    "### Question1:\n",
    "Write a function, sublist, that takes in a list of numbers as the parameter. In the function, use a while loop to return a sublist of the input list. The sublist should contain the same values of the original list up until it reaches the number 5 (it should not contain the number 5)."
   ]
  },
  {
   "cell_type": "code",
   "execution_count": null,
   "metadata": {},
   "outputs": [],
   "source": [
    "#Answer:\n",
    "def sublist(lst):\n",
    "    idx = 0 \n",
    "    sblist=[]\n",
    "    while idx < len(lst):\n",
    "        if lst[idx]!=5:\n",
    "            sblist.append(lst[idx])\n",
    "        elif lst[idx]==5:\n",
    "            return sblist\n",
    "        idx += 1\n",
    "    return sblist"
   ]
  },
  {
   "cell_type": "markdown",
   "metadata": {},
   "source": [
    "### Question2:\n",
    "Write a function called check_nums that takes a list as its parameter, and contains a while loop that only stops once the element of the list is the number 7. What is returned is a list of all of the numbers up until it reaches 7."
   ]
  },
  {
   "cell_type": "code",
   "execution_count": null,
   "metadata": {},
   "outputs": [],
   "source": [
    "#Answer:\n",
    "def check_nums(alist):\n",
    "    idx = 0 \n",
    "    blist = []\n",
    "    while idx < len(alist):\n",
    "        if alist[idx] != 7:\n",
    "            blist.append(alist[idx])\n",
    "        elif alist[idx] ==7:\n",
    "            return blist\n",
    "        idx += 1\n",
    "    return blist\n"
   ]
  },
  {
   "cell_type": "markdown",
   "metadata": {},
   "source": [
    "### Question3:\n",
    "Write a function, sublist, that takes in a list of strings as the parameter. In the function, use a while loop to return a sublist of the input list. The sublist should contain the same values of the original list up until it reaches the string “STOP” (it should not contain the string “STOP”)."
   ]
  },
  {
   "cell_type": "code",
   "execution_count": null,
   "metadata": {},
   "outputs": [],
   "source": [
    "#Answer:\n",
    "def sublist(str_lst):\n",
    "    x = 0\n",
    "    sublist = []\n",
    "    while x < len(str_lst):\n",
    "        if str_lst[x] != 'STOP':\n",
    "            sublist.append(str_lst[x])\n",
    "        elif str_lst[x] == 'STOP':\n",
    "            return sublist\n",
    "        x+=1\n",
    "    return sublist"
   ]
  },
  {
   "cell_type": "markdown",
   "metadata": {},
   "source": [
    "### Question4:\n",
    "Write a function called stop_at_z that iterates through a list of strings. Using a while loop, append each string to a new list until the string that appears is “z”. The function should return the new list."
   ]
  },
  {
   "cell_type": "code",
   "execution_count": null,
   "metadata": {},
   "outputs": [],
   "source": [
    "#Answer:\n",
    "def stop_at_z(in_list):\n",
    "    idx = 0\n",
    "    new_list = []\n",
    "    while idx<len(in_list):\n",
    "        if in_list[idx] != 'z':\n",
    "            new_list.append(in_list[idx])\n",
    "        elif in_list[idx] == 'z':\n",
    "            return new_list\n",
    "        idx+=1\n",
    "    return new_list\n"
   ]
  },
  {
   "cell_type": "markdown",
   "metadata": {},
   "source": [
    "### Question5:\n",
    "Below is a for loop that works. Underneath the for loop, rewrite the problem so that it does the same thing, but using a while loop instead of a for loop. Assign the accumulated total in the while loop code to the variable sum2. Once complete, sum2 should equal sum1."
   ]
  },
  {
   "cell_type": "code",
   "execution_count": null,
   "metadata": {},
   "outputs": [],
   "source": [
    "#Answer:\n",
    "sum1 = 0\n",
    "\n",
    "lst = [65, 78, 21, 33]\n",
    "\n",
    "for x in lst:\n",
    "    sum1 = sum1 + x\n",
    "x=0\n",
    "sum2=0\n",
    "while x < len(lst):\n",
    "    sum2 += int(lst[x])\n",
    "    x+=1\n",
    "print(sum2)"
   ]
  },
  {
   "cell_type": "markdown",
   "metadata": {},
   "source": [
    "### Challenge:\n",
    "Write a function called beginning that takes a list as input and contains a while loop that only stops once the element of the list is the string ‘bye’. What is returned is a list that contains up to the first 10 strings, regardless of where the loop stops. (i.e., if it stops on the 32nd element, the first 10 are returned. If “bye” is the 5th element, the first 4 are returned.) If you want to make this even more of a challenge, do this without slicing"
   ]
  },
  {
   "cell_type": "code",
   "execution_count": null,
   "metadata": {},
   "outputs": [],
   "source": [
    "#Answer:\n",
    "def beginning(lst):\n",
    "    idx = 0 \n",
    "    new_list = []\n",
    "    while idx < len(lst) and idx< 10:\n",
    "        if lst[idx] != 'bye':\n",
    "            new_list.append(lst[idx])\n",
    "        elif lst[idx] == 'bye':\n",
    "            return new_list\n",
    "        idx+=1\n",
    "    return new_list "
   ]
  }
 ],
 "metadata": {
  "kernelspec": {
   "display_name": "Python 3",
   "language": "python",
   "name": "python3"
  },
  "language_info": {
   "codemirror_mode": {
    "name": "ipython",
    "version": 3
   },
   "file_extension": ".py",
   "mimetype": "text/x-python",
   "name": "python",
   "nbconvert_exporter": "python",
   "pygments_lexer": "ipython3",
   "version": "3.7.6"
  }
 },
 "nbformat": 4,
 "nbformat_minor": 4
}
